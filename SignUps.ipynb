{
  "nbformat": 4,
  "nbformat_minor": 0,
  "metadata": {
    "colab": {
      "name": "Lean_Response_Rate.ipynb",
      "provenance": [],
      "collapsed_sections": [
        "iBGuJr4wpTx7"
      ],
      "toc_visible": true,
      "include_colab_link": true
    },
    "kernelspec": {
      "display_name": "Python 3",
      "language": "python",
      "name": "python3"
    },
    "language_info": {
      "codemirror_mode": {
        "name": "ipython",
        "version": 3
      },
      "file_extension": ".py",
      "mimetype": "text/x-python",
      "name": "python",
      "nbconvert_exporter": "python",
      "pygments_lexer": "ipython3",
      "version": "3.7.3"
    },
    "toc-autonumbering": true,
    "toc-showtags": true
  },
  "cells": [
    {
      "cell_type": "markdown",
      "metadata": {
        "id": "view-in-github",
        "colab_type": "text"
      },
      "source": [
        "<a href=\"https://colab.research.google.com/github/Paola1234/graphQLtoCSV/blob/master/SignUps.ipynb\" target=\"_parent\"><img src=\"https://colab.research.google.com/assets/colab-badge.svg\" alt=\"Open In Colab\"/></a>"
      ]
    },
    {
      "cell_type": "markdown",
      "metadata": {
        "colab_type": "text",
        "id": "iBGuJr4wpTx7"
      },
      "source": [
        "# Setup\n",
        "\n",
        "Import all relevant packages and access [token generator](http://token.aiesec.org.br/get_token.php?token=c0aa46e01d77fb212fe0195636fb515f8e43b530087399ec49f) to generate a token as ***access_token***"
      ]
    },
    {
      "cell_type": "code",
      "metadata": {
        "colab_type": "code",
        "id": "O3jigWCflYis",
        "colab": {}
      },
      "source": [
        "import json\n",
        "import requests\n",
        "import re\n",
        "import pandas as pd\n",
        "from pandas.io.json import json_normalize\n",
        "import pandas.io.json as pd_json\n",
        "\n",
        "\n",
        "!pip install gql -q\n",
        "\n",
        "from gql import gql, Client\n",
        "from gql.transport.requests import RequestsHTTPTransport"
      ],
      "execution_count": 0,
      "outputs": []
    },
    {
      "cell_type": "code",
      "metadata": {
        "colab_type": "code",
        "id": "scsMmawesosS",
        "outputId": "82e35983-c6ee-48c5-cc1c-0a6afa1644f5",
        "colab": {
          "base_uri": "https://localhost:8080/"
        }
      },
      "source": [
        "  token_get_url = \"http://token.aiesec.org.br/get_token.php?token=c0aa46e01d77fb212fe0195636fb515f8e43b530087399ec49f\"\n",
        "  access_token_raw = requests.get(token_get_url)\n",
        "  access_token = access_token_raw.text.strip()\n",
        "  print('Setup complete! \\nYour access token is ' + '\"'+ access_token +'\"')"
      ],
      "execution_count": 0,
      "outputs": [
        {
          "output_type": "stream",
          "text": [
            "Setup complete! \n",
            "Your access token is \"8b2029d4a49d211afa9e3075bc0134b701e465cbaf5e2fc239b8e974a7bd5f5b\"\n"
          ],
          "name": "stdout"
        }
      ]
    },
    {
      "cell_type": "code",
      "metadata": {
        "id": "3_lwy1aieSm9",
        "colab_type": "code",
        "colab": {},
        "outputId": "6f551e7b-8a2d-4365-a18a-75bafd50cbae"
      },
      "source": [
        "print(\"Select start date (YYYY-MM-DD)\")\n",
        "\n",
        "while True:\n",
        "    query_start_date = input()\n",
        "    if re.match('^[0-9]{4}-[0-9]{2}-[0-9]{2}$', query_start_date):\n",
        "        print(\"Valid input recorded\")\n",
        "        break\n",
        "    print(\"invalid input\")"
      ],
      "execution_count": 0,
      "outputs": [
        {
          "output_type": "stream",
          "text": [
            "Select start date (YYYY-MM-DD)\n"
          ],
          "name": "stdout"
        },
        {
          "output_type": "stream",
          "text": [
            " 2019-06-01\n"
          ],
          "name": "stdin"
        },
        {
          "output_type": "stream",
          "text": [
            "Valid input recorded\n"
          ],
          "name": "stdout"
        }
      ]
    },
    {
      "cell_type": "code",
      "metadata": {
        "id": "81Asvv1JeSnA",
        "colab_type": "code",
        "colab": {},
        "outputId": "e873b6f1-8986-484f-da99-0949c3286abc"
      },
      "source": [
        "print(\"Select end date (YYYY-MM-DD)\")\n",
        "\n",
        "while True:\n",
        "    query_end_date = input()\n",
        "    if re.match('^[0-9]{4}-[0-9]{2}-[0-9]{2}$', query_end_date):\n",
        "        print(\"Valid input recorded\")\n",
        "        break\n",
        "    print(\"invalid input\")"
      ],
      "execution_count": 0,
      "outputs": [
        {
          "output_type": "stream",
          "text": [
            "Select end date (YYYY-MM-DD)\n"
          ],
          "name": "stdout"
        },
        {
          "output_type": "stream",
          "text": [
            " 2019-09-15\n"
          ],
          "name": "stdin"
        },
        {
          "output_type": "stream",
          "text": [
            "Valid input recorded\n"
          ],
          "name": "stdout"
        }
      ]
    },
    {
      "cell_type": "markdown",
      "metadata": {
        "colab_type": "text",
        "id": "V-r_GPd-TRmd"
      },
      "source": [
        "# ICX RE Data"
      ]
    },
    {
      "cell_type": "code",
      "metadata": {
        "id": "__EGLODxeSnF",
        "colab_type": "code",
        "colab": {}
      },
      "source": [
        "input_query_icx = \"\"\"\n",
        "{  allOpportunityApplication(per_page: 4000,filters: {experience_end_date: {from:\"%sT22:00:00Z\", to:\"%sT22:00:00Z\"},opportunity_home_mc :1606}page: 1) {\n",
        "    data {\n",
        "      id\n",
        "      status\n",
        "      nps_grade\n",
        "      host_lc_name\n",
        "      date_realized\n",
        "      experience_end_date\n",
        "      opportunity{\n",
        "        programme{\n",
        "          short_name\n",
        "        }\n",
        "      }\n",
        "      person{\n",
        "        home_lc{name} \n",
        "     }\n",
        "      standards{\n",
        "        constant_name\n",
        "       \tstandard_option{\n",
        "          option         \n",
        "        }\n",
        "      }\n",
        "      \t\t\t}\n",
        "    \t\t}\n",
        "  }\n",
        "  \"\"\"% (query_start_date, query_end_date)\n",
        "\n",
        "_transport = RequestsHTTPTransport(\n",
        "    url='https://gis-api.aiesec.org/graphql?access_token='+str(access_token),\n",
        "    use_json=True,\n",
        ")\n",
        "client = Client(\n",
        "    transport=_transport,\n",
        "    fetch_schema_from_transport=True,\n",
        ")\n",
        "#Here you insert the query\n",
        "query_icx = gql(input_query_icx)\n",
        "\n",
        "query_icx_json=client.execute(query_icx)\n"
      ],
      "execution_count": 0,
      "outputs": []
    },
    {
      "cell_type": "code",
      "metadata": {
        "colab_type": "code",
        "id": "39X_YSLJoNRV",
        "colab": {}
      },
      "source": [
        "standards_data_icx = json_normalize(\n",
        "    query_icx_json['allOpportunityApplication']['data'],\n",
        "    record_path=['standards'],\n",
        "    meta=['id','status','nps_grade', 'host_lc_name','date_realized', 'experience_end_date','person','opportunity'])"
      ],
      "execution_count": 0,
      "outputs": []
    },
    {
      "cell_type": "code",
      "metadata": {
        "colab_type": "code",
        "id": "1ZJ1wa3mAxuG",
        "colab": {}
      },
      "source": [
        "standards_data_icx['person'] = (standards_data_icx.loc[:, 'person']\n",
        "                          .apply(lambda x: x['home_lc']['name']))\n",
        "\n",
        "standards_data_icx['opportunity'] = (standards_data_icx.loc[:, 'opportunity']\n",
        "                               .apply(lambda x: x['programme']['short_name']))"
      ],
      "execution_count": 0,
      "outputs": []
    },
    {
      "cell_type": "code",
      "metadata": {
        "colab_type": "code",
        "id": "LFR8ZAYygzDO",
        "colab": {}
      },
      "source": [
        "standards_data_icx.columns = ['standard','standard_answer','id', 'status','nps','host_lc','realized_date', 'experience_end_date', 'home_lc', 'programmee']"
      ],
      "execution_count": 0,
      "outputs": []
    },
    {
      "cell_type": "code",
      "metadata": {
        "colab_type": "code",
        "id": "M2xTz_Cxhe7f",
        "colab": {}
      },
      "source": [
        "standards_data_icx['realized_date'] = pd.to_datetime(standards_data_icx['realized_date'])\n",
        "standards_data_icx['experience_end_date'] = pd.to_datetime(standards_data_icx['experience_end_date'])"
      ],
      "execution_count": 0,
      "outputs": []
    },
    {
      "cell_type": "markdown",
      "metadata": {
        "colab_type": "text",
        "id": "1QA1QHackEse"
      },
      "source": [
        "# OGX RE Data"
      ]
    },
    {
      "cell_type": "code",
      "metadata": {
        "colab_type": "code",
        "id": "QGzqYlT2kQbu",
        "colab": {}
      },
      "source": [
        "input_query_ogx = \"\"\"\n",
        "{  allOpportunityApplication(per_page: 4000,filters: {experience_end_date: {from:\"%sT22:00:00Z\", to:\"%sT22:00:00Z\"},person_home_mc :1606}page: 1) {\n",
        "    data {\n",
        "      id\n",
        "      status\n",
        "      nps_grade\n",
        "      host_lc_name\n",
        "      date_realized\n",
        "      experience_end_date\n",
        "      opportunity{\n",
        "        programme{\n",
        "          short_name\n",
        "        }\n",
        "      }\n",
        "      person{\n",
        "        home_lc{name} \n",
        "     }\n",
        "      standards{\n",
        "        constant_name\n",
        "       \tstandard_option{\n",
        "          option         \n",
        "        }\n",
        "      }\n",
        "      \t\t\t}\n",
        "    \t\t}\n",
        "  }\n",
        "  \"\"\"% (query_start_date, query_end_date)\n",
        "\n",
        "_transport = RequestsHTTPTransport(\n",
        "    url='https://gis-api.aiesec.org/graphql?access_token='+str(access_token),\n",
        "    use_json=True,\n",
        ")\n",
        "client = Client(\n",
        "    transport=_transport,\n",
        "    fetch_schema_from_transport=True,\n",
        ")\n",
        "#Here you insert the query\n",
        "query_ogx = gql(input_query_ogx)\n",
        "\n",
        "query_ogx_json=client.execute(query_ogx)\n"
      ],
      "execution_count": 0,
      "outputs": []
    },
    {
      "cell_type": "code",
      "metadata": {
        "colab_type": "code",
        "id": "RM0Y2HfekQRq",
        "colab": {}
      },
      "source": [
        "standards_data_ogx = json_normalize(\n",
        "    query_ogx_json['allOpportunityApplication']['data'],\n",
        "    record_path=['standards'],\n",
        "    meta=['id','status','nps_grade', 'host_lc_name','date_realized', 'experience_end_date','person','opportunity'])"
      ],
      "execution_count": 0,
      "outputs": []
    },
    {
      "cell_type": "code",
      "metadata": {
        "colab_type": "code",
        "id": "TpG2mL87kQK0",
        "colab": {}
      },
      "source": [
        "standards_data_ogx['person'] = (standards_data_ogx.loc[:, 'person']\n",
        "                          .apply(lambda x: x['home_lc']['name']))\n",
        "\n",
        "standards_data_ogx['opportunity'] = (standards_data_ogx.loc[:, 'opportunity']\n",
        "                               .apply(lambda x: x['programme']['short_name']))"
      ],
      "execution_count": 0,
      "outputs": []
    },
    {
      "cell_type": "code",
      "metadata": {
        "colab_type": "code",
        "id": "oBkIEdI2kQDo",
        "colab": {}
      },
      "source": [
        "standards_data_ogx.columns = ['standard','standard_answer','id', 'status','nps','host_lc','realized_date', 'experience_end_date', 'home_lc', 'programmee']"
      ],
      "execution_count": 0,
      "outputs": []
    },
    {
      "cell_type": "code",
      "metadata": {
        "colab_type": "code",
        "id": "jDxqK7UVkP8R",
        "colab": {}
      },
      "source": [
        "standards_data_ogx['realized_date'] = pd.to_datetime(standards_data_ogx['realized_date'])\n",
        "standards_data_ogx['experience_end_date'] = pd.to_datetime(standards_data_ogx['experience_end_date'])"
      ],
      "execution_count": 0,
      "outputs": []
    },
    {
      "cell_type": "markdown",
      "metadata": {
        "colab_type": "text",
        "id": "31Er2Kz-kFD9"
      },
      "source": [
        "# Processing and downloading"
      ]
    },
    {
      "cell_type": "markdown",
      "metadata": {
        "colab_type": "text",
        "id": "iXKRzk2QqcxZ"
      },
      "source": [
        "concatenate in per process dataframes"
      ]
    },
    {
      "cell_type": "markdown",
      "metadata": {
        "id": "rTScSMNleSnd",
        "colab_type": "text"
      },
      "source": [
        "create process columns"
      ]
    },
    {
      "cell_type": "code",
      "metadata": {
        "id": "4AHrss2keSne",
        "colab_type": "code",
        "colab": {}
      },
      "source": [
        "standards_data_ogx[\"process\"] = \"OGX\"\n",
        "standards_data_icx[\"process\"] = \"ICX\""
      ],
      "execution_count": 0,
      "outputs": []
    },
    {
      "cell_type": "markdown",
      "metadata": {
        "id": "ho1qXg0LeSnf",
        "colab_type": "text"
      },
      "source": [
        "reorder columns"
      ]
    },
    {
      "cell_type": "code",
      "metadata": {
        "id": "r2MzG2K0eSng",
        "colab_type": "code",
        "colab": {}
      },
      "source": [
        "standards_data_icx = standards_data_icx[['id', 'programmee','process','home_lc','host_lc','status','realized_date','experience_end_date','nps','standard','standard_answer']]\n",
        "standards_data_ogx = standards_data_ogx[['id', 'programmee','process','home_lc','host_lc','status','realized_date','experience_end_date','nps','standard','standard_answer']]"
      ],
      "execution_count": 0,
      "outputs": []
    },
    {
      "cell_type": "markdown",
      "metadata": {
        "id": "wHcj8VrCeSnj",
        "colab_type": "text"
      },
      "source": [
        "replaces GCDP for GV"
      ]
    },
    {
      "cell_type": "code",
      "metadata": {
        "id": "PgniIYXeeSnk",
        "colab_type": "code",
        "colab": {}
      },
      "source": [
        "standards_data_ogx = standards_data_ogx.replace(\"GCDP\", \"GV\")\n",
        "standards_data_icx = standards_data_icx.replace(\"GCDP\", \"GV\")\n",
        "\n",
        "standards_data_ogx = standards_data_ogx.replace(\"GIP\", \"GT\")\n",
        "standards_data_icx = standards_data_icx.replace(\"GIP\", \"GT\")"
      ],
      "execution_count": 0,
      "outputs": []
    },
    {
      "cell_type": "markdown",
      "metadata": {
        "id": "m32DFewoeSnn",
        "colab_type": "text"
      },
      "source": [
        "unstacking the results for better readability"
      ]
    },
    {
      "cell_type": "code",
      "metadata": {
        "id": "CZTq6e1MeSno",
        "colab_type": "code",
        "colab": {}
      },
      "source": [
        "pivot_data_icx = standards_data_icx.set_index(['id', 'programmee','process','home_lc','host_lc','status','realized_date','experience_end_date','nps','standard'])['standard_answer'].unstack()\n",
        "unstack_data_icx = pd.DataFrame(pivot_data_icx.to_records())"
      ],
      "execution_count": 0,
      "outputs": []
    },
    {
      "cell_type": "code",
      "metadata": {
        "id": "XiixGyWYeSnt",
        "colab_type": "code",
        "colab": {}
      },
      "source": [
        "pivot_data_ogx = standards_data_ogx.set_index(['id', 'programmee','process','home_lc','host_lc','status','realized_date','experience_end_date','nps','standard'])['standard_answer'].unstack()\n",
        "unstack_data_ogx = pd.DataFrame(pivot_data_ogx.to_records())"
      ],
      "execution_count": 0,
      "outputs": []
    },
    {
      "cell_type": "markdown",
      "metadata": {
        "id": "PoYf8C_beSnv",
        "colab_type": "text"
      },
      "source": [
        "### Download"
      ]
    },
    {
      "cell_type": "code",
      "metadata": {
        "id": "tDfKWWOdeSnw",
        "colab_type": "code",
        "colab": {},
        "outputId": "bdfa30b6-7a76-4cae-988d-2dba9c37751d"
      },
      "source": [
        "len(standards_data_ogx[\"id\"].unique().tolist())"
      ],
      "execution_count": 0,
      "outputs": [
        {
          "output_type": "execute_result",
          "data": {
            "text/plain": [
              "947"
            ]
          },
          "metadata": {
            "tags": []
          },
          "execution_count": 24
        }
      ]
    },
    {
      "cell_type": "code",
      "metadata": {
        "colab_type": "code",
        "id": "NRGmql09qtAo",
        "colab": {}
      },
      "source": [
        "unstack_data_ogx.to_csv('standards_ogx_{}_{}.csv'.format(query_start_date, query_end_date),index=False)\n",
        "unstack_data_icx.to_csv('standards_icx_{}_{}.csv'.format(query_start_date, query_end_date),index=False)"
      ],
      "execution_count": 0,
      "outputs": []
    },
    {
      "cell_type": "markdown",
      "metadata": {
        "id": "STpA2yFOeSn0",
        "colab_type": "text"
      },
      "source": [
        "error: Not all EPs are being called in the extraction. some realizations are missing\n",
        "\n",
        "COMPLE"
      ]
    },
    {
      "cell_type": "code",
      "metadata": {
        "id": "rdTiQO3keSn1",
        "colab_type": "code",
        "colab": {}
      },
      "source": [
        ""
      ],
      "execution_count": 0,
      "outputs": []
    }
  ]
}